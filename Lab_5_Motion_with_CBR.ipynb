{
  "nbformat": 4,
  "nbformat_minor": 0,
  "metadata": {
    "colab": {
      "provenance": [],
      "include_colab_link": true
    },
    "kernelspec": {
      "name": "python3",
      "display_name": "Python 3"
    },
    "language_info": {
      "name": "python"
    }
  },
  "cells": [
    {
      "cell_type": "markdown",
      "metadata": {
        "id": "view-in-github",
        "colab_type": "text"
      },
      "source": [
        "<a href=\"https://colab.research.google.com/github/Jaydenmmc290/PHY243/blob/main/Lab_5_Motion_with_CBR.ipynb\" target=\"_parent\"><img src=\"https://colab.research.google.com/assets/colab-badge.svg\" alt=\"Open In Colab\"/></a>"
      ]
    },
    {
      "cell_type": "markdown",
      "metadata": {
        "id": "wqy0U_J1KxOQ"
      },
      "source": [
        "Importing libraries"
      ]
    },
    {
      "cell_type": "code",
      "source": [
        "\n",
        "import io  #io has the tools we need to \"i\"nput and \"o\"utput files.\n",
        "import pandas as pd #pandas has tools to deal with tables of data (normally tables are called \"DataFrames\" in Python).\n",
        "import numpy as np #np has mathematical tools we will need every week.\n",
        "from google.colab import files #files allow us to upload our csv files into google Colab.\n",
        "import matplotlib.pyplot as plt #our plotting tools\n",
        "\n",
        "from scipy.optimize import curve_fit #our curve fitting tool\n"
      ],
      "metadata": {
        "id": "jMR5tP2wmMEu"
      },
      "execution_count": null,
      "outputs": []
    },
    {
      "cell_type": "markdown",
      "source": [
        "Task 1: Cart is stationary"
      ],
      "metadata": {
        "id": "5ieBk9qiCjN6"
      }
    },
    {
      "cell_type": "code",
      "source": [
        "uploaded = files.upload() #This command gets our data file into google colab's memory\n",
        "dataframe = pd.read_csv(io.BytesIO(uploaded[next(iter(uploaded))]))# This now moves the data we uploaded into a \"dataframe\" which we can then manipulate.\n",
        "\n",
        "print(dataframe[0:2])"
      ],
      "metadata": {
        "id": "Rh0mcZFeKeQ8"
      },
      "execution_count": null,
      "outputs": []
    },
    {
      "cell_type": "code",
      "source": [
        "#These abbreviations will help your code be easier to read.\n",
        "time='Data Set 3:Time(s)' #This should match the first column header in the previous cell's output.  This is the version you get if you connect the CBR directly to your computer.\n",
        "pos='Data Set 3:Position(m)'\n",
        "vel='Data Set 3:Velocity(m/s)'\n",
        "acc='Data Set 3:Acceleration(m/s²)'\n",
        "\n",
        "\n",
        "\n",
        "df=dataframe[[time,pos,vel,acc]].dropna()  #this limits our data to just one run and removes any annoying NaN values that might be hiding at the end of our data.\n",
        "#So \"dataframe\" has all the data from the csv file, \"df\" only holds the data from the single run we are looking at now."
      ],
      "metadata": {
        "id": "fDUyDPqA_IDq"
      },
      "execution_count": null,
      "outputs": []
    },
    {
      "cell_type": "code",
      "source": [
        "ruler_measurement=(0.99) #You will need to put your own ruler measurement here for the graph below to make sense\n",
        "\n",
        "plt.plot(df[time],df[pos], '.', label=\"CBR position\") #this plots position vs time (identical to what the labquest already plotted)\n",
        "plt.plot([np.min(df[time]),np.max(df[time])],[ruler_measurement, ruler_measurement], '--k', label=\"Ruler position\")  #this plots a horizontal line dashed line at ruler_measurement\n",
        "plt.legend()\n",
        "plt.ylabel(\"distance (m)\")\n",
        "plt.xlabel(\"time (s)\")\n",
        "plt.title(\"Comparing the CBR and Ruler's measurement of the cart's position\")\n",
        "plt.show()\n",
        "\n",
        "print(\"average CBR position:\", np.average(df[pos]))\n",
        "print(\"uncertainty in CBR position:\", np.std(df[pos]))\n",
        "\n"
      ],
      "metadata": {
        "id": "zmrqjnUgIXd_"
      },
      "execution_count": null,
      "outputs": []
    },
    {
      "cell_type": "code",
      "source": [
        "#Here is some space for you to build your graphs that look at the Velocity ...\n",
        "ruler_measurement=(0.99) #You will need to put your own ruler measurement here for the graph below to make sense\n",
        "\n",
        "plt.plot(df[time],df[vel], '.', label=\"CBR position\") #this plots position vs time (identical to what the labquest already plotted)\n",
        "plt.plot([np.min(df[time]),np.max(df[time])],[ruler_measurement, ruler_measurement], '--k', label=\"Ruler position\")  #this plots a horizontal line dashed line at ruler_measurement\n",
        "\n",
        "plt.ylabel(\"Velocity (m/s)\")\n",
        "plt.xlabel(\"time (s)\")\n",
        "plt.title(\"Time vs Velocity Graph\")\n",
        "plt.show()\n",
        "\n",
        "print(\"average CBR position:\", np.average(df[pos]))\n",
        "print(\"uncertainty in CBR position:\", np.std(df[pos]))\n",
        "\n"
      ],
      "metadata": {
        "id": "jSlCplFDwVir"
      },
      "execution_count": null,
      "outputs": []
    },
    {
      "cell_type": "code",
      "source": [
        "#...and Acceleration\n",
        "ruler_measurement=(0.99) #You will need to put your own ruler measurement here for the graph below to make sense\n",
        "\n",
        "plt.plot(df[time],df[acc], '.', label=\"CBR position\") #this plots position vs time (identical to what the labquest already plotted)\n",
        "plt.plot([np.min(df[time]),np.max(df[time])],[ruler_measurement, ruler_measurement], '--k', label=\"Ruler position\")  #this plots a horizontal line dashed line at ruler_measurement\n",
        "\n",
        "plt.ylabel(\"Accelration (m/s^2)\")\n",
        "plt.xlabel(\"time (s)\")\n",
        "plt.title(\"Time vs Accelration\")\n",
        "plt.show()\n",
        "\n",
        "print(\"average CBR position:\", np.average(df[pos]))\n",
        "print(\"uncertainty in CBR position:\", np.std(df[pos]))\n",
        "\n",
        "\n"
      ],
      "metadata": {
        "id": "TuFRI75ROExU",
        "colab": {
          "base_uri": "https://localhost:8080/",
          "height": 507
        },
        "outputId": "56b5d888-875e-442a-b2e1-38009ea9d117"
      },
      "execution_count": null,
      "outputs": [
        {
          "output_type": "display_data",
          "data": {
            "text/plain": [
              "<Figure size 640x480 with 1 Axes>"
            ],
            "image/png": "[encoded data removed]"
          },
          "metadata": {}
        },
        {
          "output_type": "stream",
          "name": "stdout",
          "text": [
            "average CBR position: 1.0048099504950494\n",
            "uncertainty in CBR position: 0.0011001841553881437\n"
          ]
        }
      ]
    },
    {
      "cell_type": "markdown",
      "source": [
        "Task 2: Cart rolling up and down ramp"
      ],
      "metadata": {
        "id": "KjLgLhKXCeXM"
      }
    },
    {
      "cell_type": "code",
      "source": [
        "uploaded2 = files.upload() #This command gets our data file into google colab's memory\n",
        "dataframe2 = pd.read_csv(io.BytesIO(uploaded2[next(iter(uploaded2))]))# This now moves the data we uploaded into a \"dataframe\" which we can now start to manipulate.\n",
        "\n",
        "print(dataframe2[0:3])"
      ],
      "metadata": {
        "id": "IAXNEiRDGORF",
        "colab": {
          "base_uri": "https://localhost:8080/",
          "height": 489
        },
        "outputId": "d22d27fb-58aa-434c-e86c-bf2f9be52a70"
      },
      "execution_count": null,
      "outputs": [
        {
          "output_type": "display_data",
          "data": {
            "text/plain": [
              "<IPython.core.display.HTML object>"
            ],
            "text/html": [
              "\n",
              "     <input type=\"file\" id=\"files-3d2b0d3a-278a-431b-82e1-4d280f821612\" name=\"files[]\" multiple disabled\n",
              "        style=\"border:none\" />\n",
              "     <output id=\"result-3d2b0d3a-278a-431b-82e1-4d280f821612\">\n",
              "      Upload widget is only available when the cell has been executed in the\n",
              "      current browser session. Please rerun this cell to enable.\n",
              "      </output>\n",
              "      <script>// Copyright 2017 Google LLC\n",
              "//\n",
              "// Licensed under the Apache License, Version 2.0 (the \"License\");\n",
              "// you may not use this file except in compliance with the License.\n",
              "// You may obtain a copy of the License at\n",
              "//\n",
              "//      http://www.apache.org/licenses/LICENSE-2.0\n",
              "//\n",
              "// Unless required by applicable law or agreed to in writing, software\n",
              "// distributed under the License is distributed on an \"AS IS\" BASIS,\n",
              "// WITHOUT WARRANTIES OR CONDITIONS OF ANY KIND, either express or implied.\n",
              "// See the License for the specific language governing permissions and\n",
              "// limitations under the License.\n",
              "\n",
              "/**\n",
              " * @fileoverview Helpers for google.colab Python module.\n",
              " */\n",
              "(function(scope) {\n",
              "function span(text, styleAttributes = {}) {\n",
              "  const element = document.createElement('span');\n",
              "  element.textContent = text;\n",
              "  for (const key of Object.keys(styleAttributes)) {\n",
              "    element.style[key] = styleAttributes[key];\n",
              "  }\n",
              "  return element;\n",
              "}\n",
              "\n",
              "// Max number of bytes which will be uploaded at a time.\n",
              "const MAX_PAYLOAD_SIZE = 100 * 1024;\n",
              "\n",
              "function _uploadFiles(inputId, outputId) {\n",
              "  const steps = uploadFilesStep(inputId, outputId);\n",
              "  const outputElement = document.getElementById(outputId);\n",
              "  // Cache steps on the outputElement to make it available for the next call\n",
              "  // to uploadFilesContinue from Python.\n",
              "  outputElement.steps = steps;\n",
              "\n",
              "  return _uploadFilesContinue(outputId);\n",
              "}\n",
              "\n",
              "// This is roughly an async generator (not supported in the browser yet),\n",
              "// where there are multiple asynchronous steps and the Python side is going\n",
              "// to poll for completion of each step.\n",
              "// This uses a Promise to block the python side on completion of each step,\n",
              "// then passes the result of the previous step as the input to the next step.\n",
              "function _uploadFilesContinue(outputId) {\n",
              "  const outputElement = document.getElementById(outputId);\n",
              "  const steps = outputElement.steps;\n",
              "\n",
              "  const next = steps.next(outputElement.lastPromiseValue);\n",
              "  return Promise.resolve(next.value.promise).then((value) => {\n",
              "    // Cache the last promise value to make it available to the next\n",
              "    // step of the generator.\n",
              "    outputElement.lastPromiseValue = value;\n",
              "    return next.value.response;\n",
              "  });\n",
              "}\n",
              "\n",
              "/**\n",
              " * Generator function which is called between each async step of the upload\n",
              " * process.\n",
              " * @param {string} inputId Element ID of the input file picker element.\n",
              " * @param {string} outputId Element ID of the output display.\n",
              " * @return {!Iterable<!Object>} Iterable of next steps.\n",
              " */\n",
              "function* uploadFilesStep(inputId, outputId) {\n",
              "  const inputElement = document.getElementById(inputId);\n",
              "  inputElement.disabled = false;\n",
              "\n",
              "  const outputElement = document.getElementById(outputId);\n",
              "  outputElement.innerHTML = '';\n",
              "\n",
              "  const pickedPromise = new Promise((resolve) => {\n",
              "    inputElement.addEventListener('change', (e) => {\n",
              "      resolve(e.target.files);\n",
              "    });\n",
              "  });\n",
              "\n",
              "  const cancel = document.createElement('button');\n",
              "  inputElement.parentElement.appendChild(cancel);\n",
              "  cancel.textContent = 'Cancel upload';\n",
              "  const cancelPromise = new Promise((resolve) => {\n",
              "    cancel.onclick = () => {\n",
              "      resolve(null);\n",
              "    };\n",
              "  });\n",
              "\n",
              "  // Wait for the user to pick the files.\n",
              "  const files = yield {\n",
              "    promise: Promise.race([pickedPromise, cancelPromise]),\n",
              "    response: {\n",
              "      action: 'starting',\n",
              "    }\n",
              "  };\n",
              "\n",
              "  cancel.remove();\n",
              "\n",
              "  // Disable the input element since further picks are not allowed.\n",
              "  inputElement.disabled = true;\n",
              "\n",
              "  if (!files) {\n",
              "    return {\n",
              "      response: {\n",
              "        action: 'complete',\n",
              "      }\n",
              "    };\n",
              "  }\n",
              "\n",
              "  for (const file of files) {\n",
              "    const li = document.createElement('li');\n",
              "    li.append(span(file.name, {fontWeight: 'bold'}));\n",
              "    li.append(span(\n",
              "        `(${file.type || 'n/a'}) - ${file.size} bytes, ` +\n",
              "        `last modified: ${\n",
              "            file.lastModifiedDate ? file.lastModifiedDate.toLocaleDateString() :\n",
              "                                    'n/a'} - `));\n",
              "    const percent = span('0% done');\n",
              "    li.appendChild(percent);\n",
              "\n",
              "    outputElement.appendChild(li);\n",
              "\n",
              "    const fileDataPromise = new Promise((resolve) => {\n",
              "      const reader = new FileReader();\n",
              "      reader.onload = (e) => {\n",
              "        resolve(e.target.result);\n",
              "      };\n",
              "      reader.readAsArrayBuffer(file);\n",
              "    });\n",
              "    // Wait for the data to be ready.\n",
              "    let fileData = yield {\n",
              "      promise: fileDataPromise,\n",
              "      response: {\n",
              "        action: 'continue',\n",
              "      }\n",
              "    };\n",
              "\n",
              "    // Use a chunked sending to avoid message size limits. See b/62115660.\n",
              "    let position = 0;\n",
              "    do {\n",
              "      const length = Math.min(fileData.byteLength - position, MAX_PAYLOAD_SIZE);\n",
              "      const chunk = new Uint8Array(fileData, position, length);\n",
              "      position += length;\n",
              "\n",
              "      const base64 = btoa(String.fromCharCode.apply(null, chunk));\n",
              "      yield {\n",
              "        response: {\n",
              "          action: 'append',\n",
              "          file: file.name,\n",
              "          data: base64,\n",
              "        },\n",
              "      };\n",
              "\n",
              "      let percentDone = fileData.byteLength === 0 ?\n",
              "          100 :\n",
              "          Math.round((position / fileData.byteLength) * 100);\n",
              "      percent.textContent = `${percentDone}% done`;\n",
              "\n",
              "    } while (position < fileData.byteLength);\n",
              "  }\n",
              "\n",
              "  // All done.\n",
              "  yield {\n",
              "    response: {\n",
              "      action: 'complete',\n",
              "    }\n",
              "  };\n",
              "}\n",
              "\n",
              "scope.google = scope.google || {};\n",
              "scope.google.colab = scope.google.colab || {};\n",
              "scope.google.colab._files = {\n",
              "  _uploadFiles,\n",
              "  _uploadFilesContinue,\n",
              "};\n",
              "})(self);\n",
              "</script> "
            ]
          },
          "metadata": {}
        },
        {
          "output_type": "stream",
          "name": "stdout",
          "text": [
            "Saving csv-export2.csv to csv-export2 (1).csv\n",
            "   Data Set 1:Time(s)  Data Set 1:Position(m)  Data Set 1:Velocity(m/s)  \\\n",
            "0                0.00                1.747062                  -0.89018   \n",
            "1                0.05                1.702361                  -0.88417   \n",
            "2                0.10                1.658181                  -0.87482   \n",
            "\n",
            "   Data Set 1:Acceleration(m/s²)  Data Set 2:Time(s)  Data Set 2:Position(m)  \\\n",
            "0                       0.139677                0.00                1.606790   \n",
            "1                       0.161301                0.05                1.587868   \n",
            "2                       0.181766                0.10                1.569588   \n",
            "\n",
            "   Data Set 2:Velocity(m/s)  Data Set 2:Acceleration(m/s²)  \\\n",
            "0                 -0.374853                       0.107955   \n",
            "1                 -0.369907                       0.123710   \n",
            "2                 -0.363865                       0.149185   \n",
            "\n",
            "   Data Set 3:Time(s)  Data Set 3:Position(m)  Data Set 3:Velocity(m/s)  \\\n",
            "0                0.00                1.525842                 -0.708777   \n",
            "1                0.05                1.490324                 -0.705284   \n",
            "2                0.10                1.454928                 -0.697889   \n",
            "\n",
            "   Data Set 3:Acceleration(m/s²)  \n",
            "0                       0.095328  \n",
            "1                       0.129198  \n",
            "2                       0.171732  \n"
          ]
        }
      ]
    },
    {
      "cell_type": "code",
      "source": [
        "#Do you need to rerun this block of code or are the names still ok?\n",
        "#time='Data Set 1:Time(s)' #This should match the first column header in the previous cell's output.  This is the version you get if you do not run the data directly to your computer.\n",
        "#pos='Data Set 1:Position(m)'\n",
        "#vel='Data Set 1:Velocity(m/s)'\n",
        "#acc='Data Set 1:Acceleration(m/s²)'\n",
        "\n",
        "df2=dataframe2[[time,pos,vel,acc]].dropna()  #this limits our data to just one run and removes any annoying NaN values that might be hiding at the end of our data.\n",
        "\n"
      ],
      "metadata": {
        "id": "FM66MvnwBQdZ"
      },
      "execution_count": null,
      "outputs": []
    },
    {
      "cell_type": "code",
      "source": [
        "# if you have spikes in your data that you want to remove, this block of code helps you identify which cells of data are bad.\n",
        "spike1start=1  #this value is probably incorrect.  The goal is to change this number until the bad portion of the data is highlighted in red in the plot.\n",
        "spike1end=40 #this value is probably also incorrect.\n",
        "\n",
        "\n",
        "spike1time=df2[time][spike1start:spike1end]\n",
        "spike1accel=df2[acc][spike1start:spike1end]\n",
        "\n",
        "\n",
        "plt.plot(df2[time],df2[acc],'.')  #this plots all of your data\n",
        "plt.plot(spike1time,spike1accel,'ro')  #this is trying to highlight the bad portion in red.  Adjust spike1start and spike1end to highlight the correct region.\n",
        "\n",
        "plt.ylabel(\"a (m/s^2)\")\n",
        "plt.xlabel(\"t (s)\")\n",
        "plt.title(\"Removing spike 1\")\n",
        "plt.show()"
      ],
      "metadata": {
        "id": "ZQ0Z1LjxccFd",
        "colab": {
          "base_uri": "https://localhost:8080/",
          "height": 472
        },
        "outputId": "96da75b4-964f-4caa-a493-1a84d449245f"
      },
      "execution_count": null,
      "outputs": [
        {
          "output_type": "display_data",
          "data": {
            "text/plain": [
              "<Figure size 640x480 with 1 Axes>"
            ],
            "image/png": "[encoded data removed]"
          },
          "metadata": {}
        }
      ]
    },
    {
      "cell_type": "code",
      "source": [
        "# This is a copy of the previous code but it is focused on spike 2.\n",
        "spike2start=88  #this value is probably incorrect.  The goal is to change this number until the bad portion of the data is highlighted in red in the plot.\n",
        "spike2end=134  #this value is probably also incorrect.\n",
        "\n",
        "spike2time=df2[time][spike2start:spike2end]\n",
        "spike2accel=df2[acc][spike2start:spike2end]\n",
        "\n",
        "plt.plot(df2[time],df2[acc],'b.')\n",
        "plt.plot(spike2time,spike2accel,'ro')  #this is trying to highlight the bad portion in red.  Adjust spike2start and spike2end to highlight the region of bad data.\n",
        "\n",
        "plt.ylabel(\"a (m/s^2)\")\n",
        "plt.xlabel(\"t (s)\")\n",
        "plt.title(\"Removing spike 2\")\n",
        "\n",
        "plt.show()"
      ],
      "metadata": {
        "id": "OTbIlrAjxe_4",
        "colab": {
          "base_uri": "https://localhost:8080/",
          "height": 472
        },
        "outputId": "94e78391-c8b6-43d7-caed-b5136887a9e6"
      },
      "execution_count": null,
      "outputs": [
        {
          "output_type": "display_data",
          "data": {
            "text/plain": [
              "<Figure size 640x480 with 1 Axes>"
            ],
            "image/png": "[encoded data removed]"
          },
          "metadata": {}
        }
      ]
    },
    {
      "cell_type": "code",
      "source": [
        "df3=df2.drop(index=list(range(spike1start,spike1end))+list(range(spike2start,spike2end))) #this makes a new dataframe that has everything except the data in the spikes."
      ],
      "metadata": {
        "id": "Q3Sn4ASp0kR5"
      },
      "execution_count": null,
      "outputs": []
    },
    {
      "cell_type": "code",
      "source": [
        "plt.plot(df3[time],df3[acc],'.')\n",
        "plt.title(\"accleration of cart with bad data removed\")\n",
        "plt.show()"
      ],
      "metadata": {
        "id": "8C_fO___1znf",
        "colab": {
          "base_uri": "https://localhost:8080/",
          "height": 452
        },
        "outputId": "b556ec77-a5b0-4bf0-881b-c89ef7bb3d23"
      },
      "execution_count": null,
      "outputs": [
        {
          "output_type": "display_data",
          "data": {
            "text/plain": [
              "<Figure size 640x480 with 1 Axes>"
            ],
            "image/png": "[encoded data removed]"
          },
          "metadata": {}
        }
      ]
    },
    {
      "cell_type": "code",
      "source": [],
      "metadata": {
        "id": "ehqNmWo1gSd7"
      },
      "execution_count": null,
      "outputs": []
    },
    {
      "cell_type": "code",
      "source": [
        "#this block of code is a framework for the Researcher 2 question\n",
        "\n",
        "Xvalues=     #You must explicity tell the computer what you want displayed on the X-axis.  Don't forget that you can limit your data by using [start:end]\n",
        "Yvalues=     #Same for the Y-axis.\n",
        "\n",
        "\n",
        "def model_Linear(x,m,b):  #We are using y=m x+b as our model\n",
        "  return m*(x)+b\n",
        "\n",
        "[m_opt, b_opt], pcov = curve_fit(model_Linear, Xvalues, Yvalues)#you need to figure out what you want as your Xvalues and Yvalues to complete this fit.\n",
        "\n",
        "\n",
        "y_model = model_Linear(Xvalues, m_opt, b_opt)  #this uses the optimum slope and intercept that were just calculated to calculate y_model values our Linear Model\n",
        "\n",
        "plt.plot(Xvalues,Yvalues, '.',   label=\"data\")\n",
        "plt.plot(Xvalues,y_model, '--k', label='slope='+str(m_opt)[0:5]+'; intercept='+str(b_opt)[0:5])\n",
        "\n",
        "plt.legend()\n",
        "plt.show()\n",
        "\n",
        "\n",
        "\n"
      ],
      "metadata": {
        "id": "fQTClhqTCNYB"
      },
      "execution_count": null,
      "outputs": []
    },
    {
      "cell_type": "code",
      "source": [],
      "metadata": {
        "id": "cgNbjE0ey3zT"
      },
      "execution_count": null,
      "outputs": []
    },
    {
      "cell_type": "code",
      "source": [],
      "metadata": {
        "id": "NnfFxQnaj6lU"
      },
      "execution_count": null,
      "outputs": []
    },
    {
      "cell_type": "code",
      "source": [],
      "metadata": {
        "id": "houUUMTZbYYw"
      },
      "execution_count": null,
      "outputs": []
    }
  ]
}