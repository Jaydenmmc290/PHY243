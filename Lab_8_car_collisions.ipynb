{
  "nbformat": 4,
  "nbformat_minor": 0,
  "metadata": {
    "colab": {
      "provenance": [],
      "include_colab_link": true
    },
    "kernelspec": {
      "name": "python3",
      "display_name": "Python 3"
    },
    "language_info": {
      "name": "python"
    }
  },
  "cells": [
    {
      "cell_type": "markdown",
      "metadata": {
        "id": "view-in-github",
        "colab_type": "text"
      },
      "source": [
        "<a href=\"https://colab.research.google.com/github/Jaydenmmc290/PHY243/blob/main/Lab_8_car_collisions.ipynb\" target=\"_parent\"><img src=\"https://colab.research.google.com/assets/colab-badge.svg\" alt=\"Open In Colab\"/></a>"
      ]
    },
    {
      "cell_type": "markdown",
      "metadata": {
        "id": "wqy0U_J1KxOQ"
      },
      "source": [
        "Importing libraries"
      ]
    },
    {
      "cell_type": "code",
      "source": [
        "\n",
        "import io  #io has the tools we need to \"i\"nput and \"o\"utput files.\n",
        "import pandas as pd #pandas has tools to deal with tables of data (normally tables are called \"DataFrames\" in Python).\n",
        "import numpy as np #np has mathematical tools we will need every week.\n",
        "from google.colab import files #files allow us to upload our csv files into google Colab.\n",
        "import matplotlib.pyplot as plt #our plotting tools\n",
        "from scipy.optimize import curve_fit #our curve fitting tool  Not really needed for this lab unless you want to get very fancy!"
      ],
      "metadata": {
        "id": "jMR5tP2wmMEu"
      },
      "execution_count": null,
      "outputs": []
    },
    {
      "cell_type": "markdown",
      "source": [
        "Task 1: Single car data"
      ],
      "metadata": {
        "id": "in4u34LmT9N2"
      }
    },
    {
      "cell_type": "code",
      "source": [
        "uploaded = files.upload() #This command gets our data file into google colab's memory\n",
        "dataframe = pd.read_csv(io.BytesIO(uploaded[next(iter(uploaded))]))# This places our data in a \"dataframe\"\n",
        "\n",
        "print(dataframe[0:2])\n"
      ],
      "metadata": {
        "id": "q0czLWJwUAZe"
      },
      "execution_count": null,
      "outputs": []
    },
    {
      "cell_type": "code",
      "source": [
        "#These abbreviations will help your code be easier to read.\n",
        "\n",
        "t=\"Data Set 1:Time(s)\" #This should match the first column header in the previous cell's output.  This is the version you get if you do not run the data directly to your computer.\n",
        "x1=\"Data Set 1:Position 1(m)\"\n",
        "v1=\"Data Set 1:Velocity 1(m/s)\"\n",
        "#a1=\"Data Set 1:Acceleration 1(m/s²)\"\n",
        "x2=\"Data Set 1:Position 2(m)\"\n",
        "v2=\"Data Set 1:Velocity 2(m/s)\"\n",
        "#a2=\"Data Set 1:Acceleration 2(m/s²)\"\n",
        "\n",
        "df=dataframe[[t,x1,v1,x2,v2]].dropna()  #this limits our data to just one run and removes any annoying NaN values that might be hiding at the end of our data.\n",
        "#So \"dataframe\" has all the data from the csv file, \"df\" only holds the data from the single run we are looking at now."
      ],
      "metadata": {
        "id": "AkgnS9WK63dD"
      },
      "execution_count": null,
      "outputs": []
    },
    {
      "cell_type": "code",
      "source": [
        "#Do you trust the velocity data the CBR gives you?\n",
        "'''\n",
        "v1_eq=np.zeros(len(df[v1]))\n",
        "for i in range(len(df[v1])-2):\n",
        "  v1_eq[i+1]=(df[x1][i+2]-df[x1][i])/(df[t][i+2]-df[t][i])\n",
        "\n",
        "v2_eq=np.zeros(len(df[v2]))\n",
        "for i in range(len(df[v2])-2):\n",
        "  v2_eq[i+1]=(df[x2][i+2]-df[x2][i])/(df[t][i+2]-df[t][i])\n",
        "'''\n"
      ],
      "metadata": {
        "id": "_2pTYCN29QCQ"
      },
      "execution_count": null,
      "outputs": []
    },
    {
      "cell_type": "code",
      "source": [
        "plt.plot(df[t],df[v1],'.')\n",
        "plt.plot(df[t],df[v2],'.')"
      ],
      "metadata": {
        "id": "4lWiS75963Tj"
      },
      "execution_count": null,
      "outputs": []
    },
    {
      "cell_type": "code",
      "source": [
        "\n"
      ],
      "metadata": {
        "id": "Py6VzJ_eU1qP"
      },
      "execution_count": null,
      "outputs": []
    },
    {
      "cell_type": "code",
      "source": [],
      "metadata": {
        "id": "_2nRjN18aRHj"
      },
      "execution_count": null,
      "outputs": []
    },
    {
      "cell_type": "markdown",
      "source": [
        "Task 2: Two cars colliding"
      ],
      "metadata": {
        "id": "5ieBk9qiCjN6"
      }
    },
    {
      "cell_type": "code",
      "source": [
        "m1 = 7 # you will certainly need some mass values, but these are defintely incorrect values.\n",
        "m2 = 11\n",
        "\n",
        "uploaded = files.upload() #This command gets our data file into google colab's memory\n",
        "dataframe2 = pd.read_csv(io.BytesIO(uploaded[next(iter(uploaded))]))# We are using this dataframe so many times I am going to abbreviate it as \"df\"\n",
        "\n",
        "print(dataframe2[0:2])"
      ],
      "metadata": {
        "id": "Rh0mcZFeKeQ8"
      },
      "execution_count": null,
      "outputs": []
    },
    {
      "cell_type": "code",
      "source": [
        "'''\n",
        "#These are probably the same as before... but maybe not.\n",
        "t=\"Data Set 1:Time(s)\" #This should match the first column header in the previous cell's output.  This is the version you get if you do not run the data directly to your computer.\n",
        "x1=\"Data Set 1:Position 1(m)\"\n",
        "v1=\"Data Set 1:Velocity 1(m/s)\"\n",
        "#a1=\"Data Set 1:Acceleration 1(m/s²)\"\n",
        "x2=\"Data Set 1:Position 2(m)\"\n",
        "v2=\"Data Set 1:Velocity 2(m/s)\"\n",
        "#a2=\"Data Set 1:Acceleration 2(m/s²)\"\n",
        "'''\n",
        "df2=dataframe2[[t,x1,v1,x2,v2]].dropna()  #this limits our data to just one run and removes any annoying NaN values that might be hiding at the end of our data.\n",
        "#So \"dataframe\" has all the data from the csv file, \"df\" only holds the data from the single run we are looking at now."
      ],
      "metadata": {
        "id": "jCURWd4PYgzm"
      },
      "execution_count": null,
      "outputs": []
    },
    {
      "cell_type": "code",
      "source": [
        "\n",
        "p1=df2[v1]*m1   #creating our first set of momentum data.\n",
        "\n",
        "\n",
        "plt.plot(df2[t],p1, '.', label=\"momentum 1\")\n",
        "plt.legend()\n",
        "plt.grid()\n",
        "plt.ylabel(\"??? (?)\")\n",
        "plt.xlabel(\"??? (?)\")\n",
        "plt.title(\"I can plot momentum\")\n",
        "plt.show()\n"
      ],
      "metadata": {
        "id": "zmrqjnUgIXd_"
      },
      "execution_count": null,
      "outputs": []
    },
    {
      "cell_type": "code",
      "source": [],
      "metadata": {
        "id": "z1-cQh_TPCuM"
      },
      "execution_count": null,
      "outputs": []
    },
    {
      "cell_type": "code",
      "source": [],
      "metadata": {
        "id": "AuLB-C9TPCHk"
      },
      "execution_count": null,
      "outputs": []
    },
    {
      "cell_type": "code",
      "source": [
        "#Every time we get graph that has a straight line, we should complete the linear fit and figure out what the slope and intercept mean:\n",
        "def model_Linear(x,m,b):  #We are using y=m x+b as our model\n",
        "  return m*(x)+b\n",
        "\n",
        "Xvalues=  #What linear fit do you want to do today?\n",
        "Yvalues=  #What linear fit do you want to do today?\n",
        "\n",
        "[m_opt, b_opt], pcov = curve_fit(model_Linear, Xvalues, Yvalues)#you need to figure out what you want as your Xvalues and Yvalues to complete this fit.\n",
        "\n",
        "\n",
        "y_model = model_Linear(Xvalues, m_opt, b_opt)  #this uses the optimum slope and intercept that were just calculated to calculate y_model values our Linear Model\n",
        "\n",
        "plt.plot(Xvalues,Yvalues, '.',   label=\"data\")\n",
        "plt.plot(Xvalues,y_model, '--k', label='slope='+str(m_opt)[0:5]+'; intercept='+str(b_opt)[0:5])\n",
        "\n",
        "plt.legend()\n",
        "plt.show()"
      ],
      "metadata": {
        "id": "pECdxLDxOm7p"
      },
      "execution_count": null,
      "outputs": []
    },
    {
      "cell_type": "code",
      "source": [],
      "metadata": {
        "id": "KM3xSEs1Ybzb"
      },
      "execution_count": null,
      "outputs": []
    },
    {
      "cell_type": "code",
      "source": [],
      "metadata": {
        "id": "ZviwUYjKYbsC"
      },
      "execution_count": null,
      "outputs": []
    },
    {
      "cell_type": "code",
      "source": [
        "#here is some code to have two different y axes for two different plots\n",
        "fig, axis1 = plt.subplots()  #we tell python that we will make one image (fig) and it will have a set of data controlled by axis1\n",
        "\n",
        "axis2 = axis1.twinx()  #axis2 is a \"twin\" of axis1, and they share x coorinates (but the y values can be on different scales)\n",
        "\n",
        "axis1.plot(df2[t],df2[v1])\n",
        "axis2.plot(df2[t],df2[x1])\n",
        "\n",
        "axis1.set_title(\"Terrible graph with two y axes\")  #notice that the way we create the title is a little different because we are using subplots\n",
        "plt.show()"
      ],
      "metadata": {
        "id": "jYWY2b7PoYNu"
      },
      "execution_count": null,
      "outputs": []
    },
    {
      "cell_type": "code",
      "source": [
        "#now we are going to repeat the code above but make it look much nicer\n",
        "fig, axis1 = plt.subplots()  #tell python we will have multiple plots\n",
        "\n",
        "axis1.set_xlabel('time (s)')  #label the x axis\n",
        "axis2 = axis1.twinx()         #copy that x axis for the second data set\n",
        "\n",
        "axis1.plot(df2[t],df2[v1],'.r')    #put our data on the plots\n",
        "axis2.plot(df2[t],df2[x1],'.b')\n",
        "\n",
        "axis1.set_ylabel('velocity (m/s)', color='r')  #this makes our first y axis look good and clearly indicates that the red points go with the red labels\n",
        "axis1.tick_params(axis='y', labelcolor='r')\n",
        "\n",
        "axis2.set_ylabel('position (m)', color='b')   #this makes our second y axis look good and clearly indicates that the blue points go with the blue labels\n",
        "axis2.tick_params(axis='y', labelcolor='b')\n",
        "\n",
        "axis1.set_title(\"Better graph with two y axes, but do we really need to plot velocity and Position vs time?\")\n",
        "\n",
        "fig.show()"
      ],
      "metadata": {
        "id": "Gz9JjopicrJ_"
      },
      "execution_count": null,
      "outputs": []
    },
    {
      "cell_type": "code",
      "source": [],
      "metadata": {
        "id": "_zrwZVYYVvOY"
      },
      "execution_count": null,
      "outputs": []
    }
  ]
}